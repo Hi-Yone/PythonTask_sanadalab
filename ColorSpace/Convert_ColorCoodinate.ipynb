{
 "cells": [
  {
   "cell_type": "markdown",
   "metadata": {},
   "source": [
    "# 色座標変換プログラム実行プログラム\n",
    "モジュールとして変換プログラムを読み込んで使用する。<br>\n",
    "このプログラムはメイン関数としてのみ使用する。\n",
    "\n",
    "- 着色に関して参考にできそう<br>\n",
    "https://www.t-kougei.ac.jp/activity/research/pdf/vol36-1-09.pdf\n",
    "\n",
    "- ToDo<br>\n",
    "    - xyz->RGBの逆変換も作る\n",
    "    - 各モジュールに対しても同様に逆変換を作る\n",
    "\n",
    "    - プロットの色をRGBまたはカラーコードで指定する -> 色度図の色の変化をわかりやすくする<br>\n",
    "    RGB指定の場合、0~255ではなく、0~1で指定する。<br>\n",
    "    https://note-tech.com/matplotlib-color/#toc3\n",
    "\n",
    "    - 測色結果を元に色変換ができるようにする（汎用性の向上）\n",
    "    - RGB - L*a*b*を作成\n",
    "    - RGB - lmsを作成\n",
    "    - RGB - dklを作成\n",
    "\n"
   ]
  },
  {
   "cell_type": "markdown",
   "metadata": {},
   "source": [
    "#### ○ 必要なライブラリのインポート"
   ]
  },
  {
   "cell_type": "code",
   "execution_count": 1,
   "metadata": {},
   "outputs": [],
   "source": [
    "# %matplotlib notebook  # jupytor note book で使う時用（グリグリ動かせるようになる）\n",
    "import numpy as np\n",
    "import matplotlib.pyplot as plt\n",
    "from mpl_toolkits.mplot3d import Axes3D\n",
    "# ↓これがないとグラフが表示されない。\n",
    "%matplotlib inline"
   ]
  },
  {
   "cell_type": "markdown",
   "metadata": {},
   "source": [
    "#### ○ 作成したモジュールのインポート"
   ]
  },
  {
   "cell_type": "code",
   "execution_count": 8,
   "metadata": {},
   "outputs": [],
   "source": [
    "import __main__\n",
    "from color_conversion_modules import myfunc_ConversionColor\n",
    "# 動かない時はリスタート"
   ]
  },
  {
   "cell_type": "markdown",
   "metadata": {},
   "source": [
    "#### ○ メイン関数"
   ]
  },
  {
   "cell_type": "code",
   "execution_count": 9,
   "metadata": {},
   "outputs": [
    {
     "name": "stderr",
     "output_type": "stream",
     "text": [
      "/var/folders/s3/39zwf60x30gb3p5ytbr891jh0000gn/T/ipykernel_35157/2775333272.py:9: MatplotlibDeprecationWarning: Axes3D(fig) adding itself to the figure is deprecated since 3.4. Pass the keyword argument auto_add_to_figure=False and use fig.add_axes(ax) to suppress this warning. The default value of auto_add_to_figure will change to False in mpl3.5 and True values will no longer work in 3.6.  This is consistent with other Axes classes.\n",
      "  ax = Axes3D(fig)\n"
     ]
    },
    {
     "ename": "ValueError",
     "evalue": "too many values to unpack (expected 3)",
     "output_type": "error",
     "traceback": [
      "\u001b[0;31m---------------------------------------------------------------------------\u001b[0m",
      "\u001b[0;31mValueError\u001b[0m                                Traceback (most recent call last)",
      "\u001b[0;32m/var/folders/s3/39zwf60x30gb3p5ytbr891jh0000gn/T/ipykernel_35157/2775333272.py\u001b[0m in \u001b[0;36m<module>\u001b[0;34m\u001b[0m\n\u001b[1;32m     16\u001b[0m             \u001b[0;31m# xyz色度座標値をプロットする。\u001b[0m\u001b[0;34m\u001b[0m\u001b[0;34m\u001b[0m\u001b[0m\n\u001b[1;32m     17\u001b[0m             \u001b[0;31m# ====================================\u001b[0m\u001b[0;34m\u001b[0m\u001b[0;34m\u001b[0m\u001b[0m\n\u001b[0;32m---> 18\u001b[0;31m             \u001b[0mx\u001b[0m\u001b[0;34m,\u001b[0m\u001b[0my\u001b[0m\u001b[0;34m,\u001b[0m\u001b[0mz\u001b[0m \u001b[0;34m=\u001b[0m \u001b[0minst_RGB_and_xyz\u001b[0m\u001b[0;34m.\u001b[0m\u001b[0mxyz_for_plot\u001b[0m\u001b[0;34m(\u001b[0m\u001b[0;34m)\u001b[0m           \u001b[0;31m# RGB0~255全てを算出して配列に格納（プロット用データ）\u001b[0m\u001b[0;34m\u001b[0m\u001b[0;34m\u001b[0m\u001b[0m\n\u001b[0m\u001b[1;32m     19\u001b[0m             \u001b[0max\u001b[0m\u001b[0;34m.\u001b[0m\u001b[0mscatter\u001b[0m\u001b[0;34m(\u001b[0m\u001b[0mx\u001b[0m\u001b[0;34m,\u001b[0m \u001b[0my\u001b[0m\u001b[0;34m,\u001b[0m \u001b[0mz\u001b[0m\u001b[0;34m,\u001b[0m \u001b[0mcolor\u001b[0m\u001b[0;34m=\u001b[0m\u001b[0;34m'gray'\u001b[0m\u001b[0;34m)\u001b[0m\u001b[0;34m\u001b[0m\u001b[0;34m\u001b[0m\u001b[0m\n\u001b[1;32m     20\u001b[0m         \u001b[0;32melse\u001b[0m\u001b[0;34m:\u001b[0m\u001b[0;34m\u001b[0m\u001b[0;34m\u001b[0m\u001b[0m\n",
      "\u001b[0;32m~/Sanada_lab/Sanada_lab_git/ColorSpace/color_conversion_modules/myfunc_ConversionColor.py\u001b[0m in \u001b[0;36mxyz_for_plot\u001b[0;34m(self)\u001b[0m\n\u001b[1;32m     60\u001b[0m                         \u001b[0;32mfor\u001b[0m \u001b[0mj\u001b[0m \u001b[0;32min\u001b[0m \u001b[0mrange\u001b[0m\u001b[0;34m(\u001b[0m\u001b[0;36m1\u001b[0m\u001b[0;34m,\u001b[0m\u001b[0;36m256\u001b[0m\u001b[0;34m,\u001b[0m\u001b[0;36m16\u001b[0m\u001b[0;34m)\u001b[0m\u001b[0;34m:\u001b[0m\u001b[0;34m\u001b[0m\u001b[0;34m\u001b[0m\u001b[0m\n\u001b[1;32m     61\u001b[0m                                 \u001b[0;32mfor\u001b[0m \u001b[0mk\u001b[0m \u001b[0;32min\u001b[0m \u001b[0mrange\u001b[0m\u001b[0;34m(\u001b[0m\u001b[0;36m1\u001b[0m\u001b[0;34m,\u001b[0m \u001b[0;36m256\u001b[0m\u001b[0;34m,\u001b[0m \u001b[0;36m16\u001b[0m\u001b[0;34m)\u001b[0m\u001b[0;34m:\u001b[0m\u001b[0;34m\u001b[0m\u001b[0;34m\u001b[0m\u001b[0m\n\u001b[0;32m---> 62\u001b[0;31m                                         \u001b[0mx\u001b[0m\u001b[0;34m,\u001b[0m \u001b[0my\u001b[0m\u001b[0;34m,\u001b[0m \u001b[0mz\u001b[0m\u001b[0;34m,\u001b[0m \u001b[0mY\u001b[0m \u001b[0;34m=\u001b[0m \u001b[0mself\u001b[0m\u001b[0;34m.\u001b[0m\u001b[0mRGB2xyz\u001b[0m\u001b[0;34m(\u001b[0m\u001b[0mk\u001b[0m\u001b[0;34m,\u001b[0m \u001b[0mj\u001b[0m\u001b[0;34m,\u001b[0m \u001b[0mi\u001b[0m\u001b[0;34m)\u001b[0m\u001b[0;34m\u001b[0m\u001b[0;34m\u001b[0m\u001b[0m\n\u001b[0m\u001b[1;32m     63\u001b[0m                                         \u001b[0mx_arr\u001b[0m\u001b[0;34m.\u001b[0m\u001b[0mappend\u001b[0m\u001b[0;34m(\u001b[0m\u001b[0mx\u001b[0m\u001b[0;34m)\u001b[0m\u001b[0;34m;\u001b[0m \u001b[0my_arr\u001b[0m\u001b[0;34m.\u001b[0m\u001b[0mappend\u001b[0m\u001b[0;34m(\u001b[0m\u001b[0my\u001b[0m\u001b[0;34m)\u001b[0m\u001b[0;34m;\u001b[0m \u001b[0mz_arr\u001b[0m\u001b[0;34m.\u001b[0m\u001b[0mappend\u001b[0m\u001b[0;34m(\u001b[0m\u001b[0mz\u001b[0m\u001b[0;34m)\u001b[0m\u001b[0;34m\u001b[0m\u001b[0;34m\u001b[0m\u001b[0m\n\u001b[1;32m     64\u001b[0m                 \u001b[0;32mreturn\u001b[0m \u001b[0;34m(\u001b[0m\u001b[0mx_arr\u001b[0m\u001b[0;34m,\u001b[0m \u001b[0my_arr\u001b[0m\u001b[0;34m,\u001b[0m \u001b[0mz_arr\u001b[0m\u001b[0;34m)\u001b[0m\u001b[0;34m\u001b[0m\u001b[0;34m\u001b[0m\u001b[0m\n",
      "\u001b[0;31mValueError\u001b[0m: too many values to unpack (expected 3)"
     ]
    },
    {
     "data": {
      "image/png": "[encoded data removed]",
      "text/plain": [
       "<Figure size 720x720 with 1 Axes>"
      ]
     },
     "metadata": {
      "needs_background": "light"
     },
     "output_type": "display_data"
    }
   ],
   "source": [
    "if __name__ == \"__main__\":\n",
    "    inst_RGB_and_xyz = myfunc_ConversionColor.RGB_and_xyz()        # インスタンス生成\n",
    "    inst_Luv_and_xyz = myfunc_ConversionColor.Luv_and_xyz()        # インスタンス生成\n",
    "\n",
    "    inputNum = input()\n",
    "    \n",
    "    if inputNum == \"plot\":      # グラフをプロットする処理\n",
    "        fig = plt.figure()\n",
    "        ax = Axes3D(fig)\n",
    "        ax.view_init(elev=0, azim=45)\n",
    "        ax.grid()\n",
    "        inputNum2 = input()\n",
    "        \n",
    "        if inputNum2 == \"a\":\n",
    "            # ====================================\n",
    "            # xyz色度座標値をプロットする。\n",
    "            # ====================================\n",
    "            x,y,z = inst_RGB_and_xyz.xyz_for_plot()           # RGB0~255全てを算出して配列に格納（プロット用データ）\n",
    "            ax.scatter(x, y, z, color='gray')\n",
    "            \n",
    "        else:   # 例外処理\n",
    "            print(\"入力値エラー(半角英字で入力する)\")\n",
    "\n",
    "\n",
    "    elif inputNum == \"num\":     # 座標を取得する処理\n",
    "        # ====================================\n",
    "        # RGBの三刺激値(0~255)からxyz色度座標値を求める。\n",
    "        # ====================================\n",
    "        x, y, z, Y = inst_RGB_and_xyz.RGB2xyz(255, 0, 0)     # 指定されたRGBの色座標を算出\n",
    "        print('(x, y, z) = ', (x, y, z))\n",
    "\n",
    "        R,G,B = inst_RGB_and_xyz.xyL2RGB(x, y, Y)\n",
    "        print('(r, g, b) = ', (R, G, B))\n",
    "\n",
    "        # ====================================\n",
    "        # RGBの三刺激値(0~255)からl*u*v*色度座標値を求める。\n",
    "        # ====================================\n",
    "        L_star,u_star,v_star = inst_Luv_and_xyz.RGB2Luv(255, 0, 0)\n",
    "        print(L_star, u_star, v_star)\n",
    "\n",
    "\n",
    "    else:   # 例外処理\n",
    "        print(\"入力値エラー(半角数字で入力する。)\")\n",
    "\n",
    "    plt.show()"
   ]
  },
  {
   "cell_type": "code",
   "execution_count": null,
   "metadata": {},
   "outputs": [],
   "source": []
  }
 ],
 "metadata": {
  "kernelspec": {
   "display_name": "Python 3",
   "language": "python",
   "name": "python3"
  },
  "language_info": {
   "codemirror_mode": {
    "name": "ipython",
    "version": 3
   },
   "file_extension": ".py",
   "mimetype": "text/x-python",
   "name": "python",
   "nbconvert_exporter": "python",
   "pygments_lexer": "ipython3",
   "version": "3.9.10"
  },
  "vscode": {
   "interpreter": {
    "hash": "aee8b7b246df8f9039afb4144a1f6fd8d2ca17a180786b69acc140d282b71a49"
   }
  }
 },
 "nbformat": 4,
 "nbformat_minor": 4
}
