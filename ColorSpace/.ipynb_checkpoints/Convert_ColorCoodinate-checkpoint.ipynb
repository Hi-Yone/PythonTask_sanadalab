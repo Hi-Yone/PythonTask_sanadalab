{
 "cells": [
  {
   "cell_type": "markdown",
   "metadata": {},
   "source": [
    "# 色座標変換プログラム実行プログラム\n",
    "モジュールとして変換プログラムを読み込んで使用する。<br>\n",
    "このプログラムはメイン関数としてのみ使用する。\n",
    "\n",
    "- 着色に関して参考にできそう<br>\n",
    "https://www.t-kougei.ac.jp/activity/research/pdf/vol36-1-09.pdf\n",
    "\n",
    "- ToDo<br>\n",
    "    - xyz->RGBの逆変換も作る\n",
    "    - 各モジュールに対しても同様に逆変換を作る\n",
    "\n",
    "    - プロットの色をRGBまたはカラーコードで指定する -> 色度図の色の変化をわかりやすくする<br>\n",
    "    RGB指定の場合、0~255ではなく、0~1で指定する。<br>\n",
    "    https://note-tech.com/matplotlib-color/#toc3\n",
    "\n",
    "    - 測色結果を元に色変換ができるようにする（汎用性の向上）\n",
    "    - RGB - L*a*b*を作成\n",
    "    - RGB - lmsを作成\n",
    "    - RGB - dklを作成\n",
    "\n"
   ]
  },
  {
   "cell_type": "markdown",
   "metadata": {},
   "source": [
    "#### ○ 必要なライブラリのインポート"
   ]
  },
  {
   "cell_type": "code",
   "execution_count": 1,
   "metadata": {},
   "outputs": [],
   "source": [
    "# %matplotlib notebook  # jupytor note book で使う時用（グリグリ動かせるようになる）\n",
    "import numpy as np\n",
    "import matplotlib.pyplot as plt\n",
    "from mpl_toolkits.mplot3d import Axes3D\n",
    "# ↓これがないとグラフが表示されない。\n",
    "%matplotlib inline      "
   ]
  },
  {
   "cell_type": "markdown",
   "metadata": {},
   "source": [
    "#### ○ 作成したモジュールのインポート"
   ]
  },
  {
   "cell_type": "code",
   "execution_count": 8,
   "metadata": {},
   "outputs": [],
   "source": [
    "import __main__\n",
    "from color_conversion_modules import myfunc_RGB_Luv\n",
    "# 動かない時はリスタート"
   ]
  },
  {
   "cell_type": "markdown",
   "metadata": {},
   "source": [
    "#### ○ メイン関数"
   ]
  },
  {
   "cell_type": "code",
   "execution_count": 9,
   "metadata": {},
   "outputs": [
    {
     "name": "stdout",
     "output_type": "stream",
     "text": [
      "num\n",
      "(x, y, z) =  (0.734671, 0.265329, 0.0)\n",
      "(r, g, b) =  (255, 0, 0)\n"
     ]
    },
    {
     "ename": "NameError",
     "evalue": "name 'myfunc_RGB_Luv' is not defined",
     "output_type": "error",
     "traceback": [
      "\u001b[0;31m---------------------------------------------------------------------------\u001b[0m",
      "\u001b[0;31mNameError\u001b[0m                                 Traceback (most recent call last)",
      "\u001b[0;32m<ipython-input-9-440dc1d44a36>\u001b[0m in \u001b[0;36m<module>\u001b[0;34m\u001b[0m\n\u001b[1;32m     28\u001b[0m         \u001b[0mprint\u001b[0m\u001b[0;34m(\u001b[0m\u001b[0;34m'(r, g, b) = '\u001b[0m\u001b[0;34m,\u001b[0m \u001b[0;34m(\u001b[0m\u001b[0mR\u001b[0m\u001b[0;34m,\u001b[0m \u001b[0mG\u001b[0m\u001b[0;34m,\u001b[0m \u001b[0mB\u001b[0m\u001b[0;34m)\u001b[0m\u001b[0;34m)\u001b[0m\u001b[0;34m\u001b[0m\u001b[0;34m\u001b[0m\u001b[0m\n\u001b[1;32m     29\u001b[0m \u001b[0;34m\u001b[0m\u001b[0m\n\u001b[0;32m---> 30\u001b[0;31m         \u001b[0mL_star\u001b[0m\u001b[0;34m,\u001b[0m\u001b[0mu_star\u001b[0m\u001b[0;34m,\u001b[0m\u001b[0mv_star\u001b[0m \u001b[0;34m=\u001b[0m \u001b[0mmyfunc_RGB_Luv\u001b[0m\u001b[0;34m.\u001b[0m\u001b[0mRGB2Luv\u001b[0m\u001b[0;34m(\u001b[0m\u001b[0;36m255\u001b[0m\u001b[0;34m,\u001b[0m \u001b[0;36m0\u001b[0m\u001b[0;34m,\u001b[0m \u001b[0;36m0\u001b[0m\u001b[0;34m)\u001b[0m\u001b[0;34m\u001b[0m\u001b[0;34m\u001b[0m\u001b[0m\n\u001b[0m\u001b[1;32m     31\u001b[0m         \u001b[0mprint\u001b[0m\u001b[0;34m(\u001b[0m\u001b[0mL_star\u001b[0m\u001b[0;34m,\u001b[0m \u001b[0mu_star\u001b[0m\u001b[0;34m,\u001b[0m \u001b[0mv_star\u001b[0m\u001b[0;34m)\u001b[0m\u001b[0;34m\u001b[0m\u001b[0;34m\u001b[0m\u001b[0m\n\u001b[1;32m     32\u001b[0m \u001b[0;34m\u001b[0m\u001b[0m\n",
      "\u001b[0;31mNameError\u001b[0m: name 'myfunc_RGB_Luv' is not defined"
     ]
    }
   ],
   "source": [
    "if __name__ == \"__main__\":\n",
    "    inputNum = input()\n",
    "    \n",
    "    if inputNum == \"plot\":\n",
    "        fig = plt.figure(figsize=(10,10))\n",
    "        ax = Axes3D(fig)\n",
    "        ax.view_init(elev=0, azim=45)\n",
    "        ax.grid()\n",
    "        inputNum2 = input()\n",
    "        \n",
    "        if inputNum2 == \"a\":\n",
    "            # ====================================\n",
    "            # xyz色度座標値をプロットする。\n",
    "            # ====================================\n",
    "            x,y,z = myfunc_RGB_xyz.xyz_for_plot()           # RGB0~255全てを算出して配列に格納（プロット用データ）\n",
    "            ax.scatter(x, y, z, color='gray')\n",
    "        else:\n",
    "            print(\"入力値エラー(半角英字で入力する)\")\n",
    "\n",
    "    elif inputNum == \"num\":\n",
    "        # ====================================\n",
    "        # RGBの三刺激値(0~255)からxyz色度座標値を求める。\n",
    "        # ====================================\n",
    "        x, y, z, Y = myfunc_RGB_xyz.RGB2xyz(255, 0, 0)     # 指定されたRGBの色座標を算出\n",
    "        print('(x, y, z) = ', (x, y, z))\n",
    "\n",
    "        R,G,B = myfunc_RGB_xyz.xyL2RGB(x, y, Y)\n",
    "        print('(r, g, b) = ', (R, G, B))\n",
    "\n",
    "        L_star,u_star,v_star = myfunc_RGB_Luv.RGB2Luv(255, 0, 0)\n",
    "        print(L_star, u_star, v_star)\n",
    "\n",
    "    else:\n",
    "        print(\"入力値エラー(半角数字で入力する。)\")\n",
    "    \n",
    "    \n",
    "    # ====================================\n",
    "    # RGBの三刺激値(0~255)からl*u*v*色度座標値を求める。\n",
    "    # ====================================\n",
    "\n",
    "    plt.show()"
   ]
  },
  {
   "cell_type": "code",
   "execution_count": null,
   "metadata": {},
   "outputs": [],
   "source": []
  }
 ],
 "metadata": {
  "kernelspec": {
   "display_name": "Python 3",
   "language": "python",
   "name": "python3"
  },
  "language_info": {
   "codemirror_mode": {
    "name": "ipython",
    "version": 3
   },
   "file_extension": ".py",
   "mimetype": "text/x-python",
   "name": "python",
   "nbconvert_exporter": "python",
   "pygments_lexer": "ipython3",
   "version": "3.7.6"
  },
  "vscode": {
   "interpreter": {
    "hash": "aee8b7b246df8f9039afb4144a1f6fd8d2ca17a180786b69acc140d282b71a49"
   }
  }
 },
 "nbformat": 4,
 "nbformat_minor": 4
}
